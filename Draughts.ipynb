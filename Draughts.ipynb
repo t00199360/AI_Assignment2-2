{
  "nbformat": 4,
  "nbformat_minor": 0,
  "metadata": {
    "colab": {
      "name": "Draughts.ipynb",
      "provenance": [],
      "collapsed_sections": [],
      "include_colab_link": true
    },
    "kernelspec": {
      "name": "python3",
      "display_name": "Python 3"
    }
  },
  "cells": [
    {
      "cell_type": "markdown",
      "metadata": {
        "id": "view-in-github",
        "colab_type": "text"
      },
      "source": [
        "<a href=\"https://colab.research.google.com/github/t00199360/AI_Assignment2-2/blob/master/Draughts.ipynb\" target=\"_parent\"><img src=\"https://colab.research.google.com/assets/colab-badge.svg\" alt=\"Open In Colab\"/></a>"
      ]
    },
    {
      "cell_type": "code",
      "metadata": {
        "id": "WUf-Pe0z4MKH"
      },
      "source": [
        "class CurrentBoard:                  #R0      R1     R2     R3     R4      R5     R6     R7\n",
        "  def __init__(self,setup_of_board = ['wwww','wwww','wwww','    ','    ','bbbb','bbbb','bbbb']):\n",
        "      self.board = setup_of_board\n",
        "      self.state = self.state_of_play()\n",
        "  #Board setup is above here, state calls state of play which checks for a win\n",
        "\n",
        "\n",
        "  def display_board(self):\n",
        "    print(\"------------------\")\n",
        "    for row in range(8):\n",
        "      c = self.board[row]\n",
        "      if(row % 2) == 0:\n",
        "        print(\"| |{}| |{}| |{}| |{}|\".format(c[0],c[1],c[2],c[3]))\n",
        "      else:\n",
        "        print(\"|{}| |{}| |{}| |{}| |\".format(c[0],c[1],c[2],c[3]))\n",
        "      print(\"------------------\")\n",
        "    #method above prints out the board with the correct formatting (spaces where they need to be etc)\n",
        "    \n",
        "\n",
        "#This method should be called adjacent_squares but refactoring is awkward and im hesitant to change in case it breaks and leaves me caught for time\n",
        "  def all_possible_move_for_position(self,position, inc):\n",
        "    # inc = 1 for Whites, inc = -1 for black, inc = 0 for kings\n",
        "    # return a list of all possible positions reachable in one move from position\n",
        "    all_moves = []\n",
        "\n",
        "    if inc == 0:  #inc check is used to see if the piece is a king or not to determine movement constraints\n",
        "      return self.all_possible_move_for_position(position, -1) + self.all_possible_move_for_position(position, 1) #return gives back the possible moves for the piece in that given position\n",
        "\n",
        "    start_row = position[0]\n",
        "    start_i = position[1]\n",
        "\n",
        "  #Board movement constraint logic\n",
        "    new_row = start_row + inc\n",
        "    if (new_row > 0) and (new_row < 8):\n",
        "      all_moves.append((new_row,start_i))\n",
        "      if (start_row % 2) == 0:\n",
        "        if (start_i < 3):\n",
        "          all_moves.append((new_row, start_i + 1))\n",
        "      else:\n",
        "        if (start_i > 0):\n",
        "          all_moves.append((new_row, start_i - 1))\n",
        "\n",
        "    return all_moves  #return all the moves available with the moves for this particular piece appended to the list\n",
        "\n",
        "\n",
        "\n",
        "\n",
        "  def playingAs(self, piece): #literally returns what colour the piece is\n",
        "    if piece == 'w':\n",
        "      return 'w'\n",
        "    if piece == 'b':\n",
        "      return 'b'\n",
        "    if piece == 'W':\n",
        "      return 'w'\n",
        "    if piece == 'B':\n",
        "      return 'b'\n",
        "    return piece\n",
        "\n",
        "\n",
        "\n",
        "\n",
        "  def all_possible_moves_for(self, _this): #all moves for \"w\" or \"b\"\n",
        "    all_boards = []\n",
        "\n",
        "    for row in range(8):\n",
        "      for i in range(4):\n",
        "        if self.playingAs(self.board[row][i]) == _this:\n",
        "          inc = 0\n",
        "          if self.board[row][i] == _this:\n",
        "            if _this == \"w\":\n",
        "              inc = 1\n",
        "            else:\n",
        "              inc = -1\n",
        "          all_boards += self.construct_boards_for((row,i), self.all_possible_move_for_position((row,i), inc))\n",
        "\n",
        "\n",
        "    return all_boards\n",
        "\n",
        "\n",
        "\n",
        "\n",
        "  def get_piece_at(self, position): #returns back the piece in the given position\n",
        "    return self.board[position[0]][position[1]]\n",
        "\n",
        "  def row_for(self, position):\n",
        "    return position[0]\n",
        "\n",
        "  def i_for(self, position):\n",
        "    return position[1]\n",
        "\n",
        "  def move_piece_to(self, from_position, to_position):\n",
        "    board_def = []\n",
        "    piece = self.get_piece_at(from_position)\n",
        "\n",
        "    for row_index in range(8):\n",
        "      row = self.board[row_index]\n",
        "      if row_index == self.row_for(from_position):\n",
        "        board_def.append(self.replace_at(row, self.i_for(from_position), \" \"))\n",
        "      elif row_index == self.row_for(to_position):\n",
        "        board_def.append(self.replace_at(row, self.i_for(to_position), piece))\n",
        "      else:\n",
        "        board_def.append(row)\n",
        "\n",
        "    return CurrentBoard(board_def)\n",
        "\n",
        "\n",
        "\n",
        "\n",
        "  def replace_at(self,row_as_string, index,character):\n",
        "    return row_as_string[:index] + character + row_as_string[index+1:]\n",
        "\n",
        "\n",
        "\n",
        "\n",
        "\n",
        "  def jump_to(self, from_position, over_position):\n",
        "    row_dir = self.row_for(over_position) -self.row_for(from_position)\n",
        "    new_row = self.row_for(from_position) + row_dir\n",
        "    if (new_row < 0) or (new_row>7):\n",
        "      return None\n",
        "    if (new_row % 2) == 0:\n",
        "      if (self.i_for(from_position) == self.i_for(over_position)):\n",
        "        new_i = self.i_of(from_position) -1\n",
        "      else:\n",
        "        new_i = self.i_of(from_position) + 1\n",
        "    else:\n",
        "      if (self.i_for(from_position) == self.i_for(over_position)):\n",
        "        new_i = self.i_of(from_position) + 1\n",
        "      else:\n",
        "        new_i = self.i_of(from_position) - 1\n",
        "    if (new_i >=0)and (new_i<4):\n",
        "      return (new_row,new_i)\n",
        "\n",
        "\n",
        "\n",
        "\n",
        "    def all_kills(self,current_position,kill_list):\n",
        "      all_kills_from_here = self.get_adjacent_kills(current_position, kill_list, self.get_piece_at(start_position))\n",
        "      all_completed_moves = []\n",
        "      if (all_kills_from_here == []):\n",
        "        if (kill_list == []):\n",
        "          return []\n",
        "        else:\n",
        "          return [self.board_for(start_position,current_position,kill_list)]\n",
        "\n",
        "        for kill in all_kills_from_here:\n",
        "          all_completed_moves += self.all_kills(start_position,self.jump_to(current_position,kill),kill_list + [kill])\n",
        "        \n",
        "        return all_completed_moves\n",
        "\n",
        "  \n",
        "    def get_adjacent_kills(self,position,kill_list, piece): #returns the kills that are beside the pieces current position\n",
        "\n",
        "      inc = 0 #inc is the identifier for piece status(king or regular and their colour if they are regular)\n",
        "      if self.board[row][i] == _this:\n",
        "        if _this == 'w':\n",
        "          inc = 1\n",
        "        else: \n",
        "          inc = -1\n",
        "      kills = []\n",
        "      all_adjacent_squares = self.all_possible_move_for_position(position,inc)\n",
        "\n",
        "      for square in all_adjacent_squares: #loops through the adjacent squares and sees if its an opponent\n",
        "        if self.is_opponent_of(piece,get_piece_at(square)):\n",
        "          if self.get_piece_at(self.jump_to(position, square)) == \" \":  #if the space after the possible kill is blank then it is a kill, move gets added to the list of kills\n",
        "            kills.append(square)\n",
        "      return kills\n",
        "    \n",
        "\n",
        "\n",
        "\n",
        "    def is_opponent_of(self,piece1,piece2): #if not one piece then it has to be the other\n",
        "      return (self.playingAs(piece1) != self.playingAs(piece2)) and (piece1 != ' ') and (piece2 != ' ')\n",
        "\n",
        "    def is_not_already_killed(self,square,list_of_positions):\n",
        "      return null\n",
        "\n",
        "\n",
        "  def construct_boards_for(self, from_position, to_position_list):\n",
        "    boards = []\n",
        "    #all boards for the current pieces position for evaluation.\n",
        "    for new_position in to_position_list:\n",
        "      if self.get_piece_at(new_position) == \" \": #checks if the new position is empty or not\n",
        "        boards.append(self.move_piece_to(from_position, new_position))\n",
        "    return boards\n",
        "\n",
        "\n",
        "\n",
        "\n",
        "  def equal3(self, a,b,c): #only relevant for the xs and os game (for now anyway)\n",
        "    return (a==b) and (a==c)\n",
        "\n",
        "\n",
        "  def countPiece(self,_this): #this could work better but for now its ok\n",
        "    whitecounter = int(0)\n",
        "    blackcounter = int(0)\n",
        "    for row in range(8):\n",
        "      for i in range(4):\n",
        "        if self.playingAs(self.board[row][i]) == _this:\n",
        "          if self.board[row][i] == _this:\n",
        "            if _this == \"w\" or \"W\":\n",
        "              whitecounter += 1\n",
        "            if _this == \"B\" or \"b\":\n",
        "              blackcounter += 1\n",
        "    if whitecounter > blackcounter:\n",
        "      return \"White\"\n",
        "    if blackcounter > whitecounter:\n",
        "      return \"Black\"\n",
        "    if blackcounter == whitecounter and blackcounter != 1:\n",
        "      return \"Undecided\"\n",
        "    else:\n",
        "      return \"Draw\"\n",
        "    \n",
        "    #print(whitecounter)\n",
        "    #print(blackcounter)\n",
        "\n",
        "\n",
        "\n",
        "  '''def countPiece(self,piece1, piece2): THIS DID NOT WORK\n",
        "    #count number of w/b on board. If each have just 1 piece left, its a draw. If black has 0 white wins and vice versa.\n",
        "    #This is essentially pseudocode, it hasnt been tested properly and likely has errors\n",
        "    if piece1.count in self.board == 0:\n",
        "      return piece2 #return piece2 if piece 2 is the winner\n",
        "    if piece2.count in self.board == 0:\n",
        "      return piece1 #return piece 1 if piece 1 is the winner\n",
        "    if piece1.count in self.board >= 1 and piece2.count in self.board >= 1:\n",
        "      return 'U'  #return u for undecided\n",
        "    if piece1.count in self.board == 1 and piece2.count in self.board == 1:\n",
        "      return 'D'  #return d for draw\n",
        "  '''\n",
        "  def king_me(self, piece): #regular pieces can be small letters, kings can be capitals\n",
        "    if piece == 'w':\n",
        "      piece = 'W'\n",
        "    if piece == 'b':\n",
        "      piece = 'B'\n",
        "    return piece\n",
        "\n",
        "\n",
        "  def state_of_play(self):\n",
        "    #self.countPiece(\"w\",\"b\")\n",
        "   # countPiece(self,'w','b')  #countpiece should determine how many of each piece is left.\n",
        "  \n",
        "    return self.countPiece(\"w\")\n"
      ],
      "execution_count": 1,
      "outputs": []
    },
    {
      "cell_type": "markdown",
      "metadata": {
        "id": "5BvJ78jDKewk"
      },
      "source": [
        "#Storage and Movement: \n",
        "The board is stored as rows of 4 characters (as only 4 active squares in each row)\n",
        "\n",
        "This will need to be appropriately dealt with when referring to positions\n",
        "We will represent a place on the board by (r,i)\n",
        "\n",
        "A piece in position (r,i) may move to (r,i) →(r ± 1,i or i + 1) for even rows or (r,i)→(r ± 1,i - 1 or i) for odd rows\n",
        "\n",
        "Assuming these new values are valid as indices"
      ]
    },
    {
      "cell_type": "code",
      "metadata": {
        "colab": {
          "base_uri": "https://localhost:8080/"
        },
        "id": "EGv52YvtPu0S",
        "outputId": "d98e6fc3-af90-4e18-aa31-15ab1deb5cad"
      },
      "source": [
        "(2,3)"
      ],
      "execution_count": 2,
      "outputs": [
        {
          "output_type": "execute_result",
          "data": {
            "text/plain": [
              "(2, 3)"
            ]
          },
          "metadata": {
            "tags": []
          },
          "execution_count": 2
        }
      ]
    },
    {
      "cell_type": "code",
      "metadata": {
        "id": "XqzTjjZ1Ip2b"
      },
      "source": [
        "position = (0,2)\n",
        "q = CurrentBoard()"
      ],
      "execution_count": 3,
      "outputs": []
    },
    {
      "cell_type": "code",
      "metadata": {
        "colab": {
          "base_uri": "https://localhost:8080/"
        },
        "id": "LkN4eDrOQDJ5",
        "outputId": "8f8a7183-793b-4077-d1b9-461a9168be3b"
      },
      "source": [
        "position[1]"
      ],
      "execution_count": 4,
      "outputs": [
        {
          "output_type": "execute_result",
          "data": {
            "text/plain": [
              "2"
            ]
          },
          "metadata": {
            "tags": []
          },
          "execution_count": 4
        }
      ]
    },
    {
      "cell_type": "code",
      "metadata": {
        "colab": {
          "base_uri": "https://localhost:8080/"
        },
        "id": "QM-ieD3UVS-O",
        "outputId": "5670e90c-b53a-4fb1-fe2d-ec9b18782ea4"
      },
      "source": [
        "q.all_possible_move_for_position((7,0),0)"
      ],
      "execution_count": 5,
      "outputs": [
        {
          "output_type": "execute_result",
          "data": {
            "text/plain": [
              "[(6, 0)]"
            ]
          },
          "metadata": {
            "tags": []
          },
          "execution_count": 5
        }
      ]
    },
    {
      "cell_type": "code",
      "metadata": {
        "id": "SGmDHeGLM0Zh"
      },
      "source": [
        "test = q.state_of_play()"
      ],
      "execution_count": 6,
      "outputs": []
    },
    {
      "cell_type": "code",
      "metadata": {
        "colab": {
          "base_uri": "https://localhost:8080/",
          "height": 35
        },
        "id": "YKwXArsDHYlQ",
        "outputId": "15ba0eaf-ad26-4bc4-8193-5882e702b2b8"
      },
      "source": [
        "test"
      ],
      "execution_count": 7,
      "outputs": [
        {
          "output_type": "execute_result",
          "data": {
            "application/vnd.google.colaboratory.intrinsic+json": {
              "type": "string"
            },
            "text/plain": [
              "'Undecided'"
            ]
          },
          "metadata": {
            "tags": []
          },
          "execution_count": 7
        }
      ]
    },
    {
      "cell_type": "code",
      "metadata": {
        "colab": {
          "base_uri": "https://localhost:8080/"
        },
        "id": "QkpkTHL_VdQN",
        "outputId": "345eefd8-1401-4142-cf3f-385d2db98c8a"
      },
      "source": [
        "moves = q.all_possible_moves_for(\"w\")\n",
        "\n",
        "for m in moves:\n",
        "  m.display_board()\n",
        "  print(\"\\n\\n\")"
      ],
      "execution_count": 8,
      "outputs": [
        {
          "output_type": "stream",
          "text": [
            "------------------\n",
            "| |w| |w| |w| |w|\n",
            "------------------\n",
            "|w| |w| |w| |w| |\n",
            "------------------\n",
            "| | | |w| |w| |w|\n",
            "------------------\n",
            "|w| | | | | | | |\n",
            "------------------\n",
            "| | | | | | | | |\n",
            "------------------\n",
            "|b| |b| |b| |b| |\n",
            "------------------\n",
            "| |b| |b| |b| |b|\n",
            "------------------\n",
            "|b| |b| |b| |b| |\n",
            "------------------\n",
            "\n",
            "\n",
            "\n",
            "------------------\n",
            "| |w| |w| |w| |w|\n",
            "------------------\n",
            "|w| |w| |w| |w| |\n",
            "------------------\n",
            "| | | |w| |w| |w|\n",
            "------------------\n",
            "| | |w| | | | | |\n",
            "------------------\n",
            "| | | | | | | | |\n",
            "------------------\n",
            "|b| |b| |b| |b| |\n",
            "------------------\n",
            "| |b| |b| |b| |b|\n",
            "------------------\n",
            "|b| |b| |b| |b| |\n",
            "------------------\n",
            "\n",
            "\n",
            "\n",
            "------------------\n",
            "| |w| |w| |w| |w|\n",
            "------------------\n",
            "|w| |w| |w| |w| |\n",
            "------------------\n",
            "| |w| | | |w| |w|\n",
            "------------------\n",
            "| | |w| | | | | |\n",
            "------------------\n",
            "| | | | | | | | |\n",
            "------------------\n",
            "|b| |b| |b| |b| |\n",
            "------------------\n",
            "| |b| |b| |b| |b|\n",
            "------------------\n",
            "|b| |b| |b| |b| |\n",
            "------------------\n",
            "\n",
            "\n",
            "\n",
            "------------------\n",
            "| |w| |w| |w| |w|\n",
            "------------------\n",
            "|w| |w| |w| |w| |\n",
            "------------------\n",
            "| |w| | | |w| |w|\n",
            "------------------\n",
            "| | | | |w| | | |\n",
            "------------------\n",
            "| | | | | | | | |\n",
            "------------------\n",
            "|b| |b| |b| |b| |\n",
            "------------------\n",
            "| |b| |b| |b| |b|\n",
            "------------------\n",
            "|b| |b| |b| |b| |\n",
            "------------------\n",
            "\n",
            "\n",
            "\n",
            "------------------\n",
            "| |w| |w| |w| |w|\n",
            "------------------\n",
            "|w| |w| |w| |w| |\n",
            "------------------\n",
            "| |w| |w| | | |w|\n",
            "------------------\n",
            "| | | | |w| | | |\n",
            "------------------\n",
            "| | | | | | | | |\n",
            "------------------\n",
            "|b| |b| |b| |b| |\n",
            "------------------\n",
            "| |b| |b| |b| |b|\n",
            "------------------\n",
            "|b| |b| |b| |b| |\n",
            "------------------\n",
            "\n",
            "\n",
            "\n",
            "------------------\n",
            "| |w| |w| |w| |w|\n",
            "------------------\n",
            "|w| |w| |w| |w| |\n",
            "------------------\n",
            "| |w| |w| | | |w|\n",
            "------------------\n",
            "| | | | | | |w| |\n",
            "------------------\n",
            "| | | | | | | | |\n",
            "------------------\n",
            "|b| |b| |b| |b| |\n",
            "------------------\n",
            "| |b| |b| |b| |b|\n",
            "------------------\n",
            "|b| |b| |b| |b| |\n",
            "------------------\n",
            "\n",
            "\n",
            "\n",
            "------------------\n",
            "| |w| |w| |w| |w|\n",
            "------------------\n",
            "|w| |w| |w| |w| |\n",
            "------------------\n",
            "| |w| |w| |w| | |\n",
            "------------------\n",
            "| | | | | | |w| |\n",
            "------------------\n",
            "| | | | | | | | |\n",
            "------------------\n",
            "|b| |b| |b| |b| |\n",
            "------------------\n",
            "| |b| |b| |b| |b|\n",
            "------------------\n",
            "|b| |b| |b| |b| |\n",
            "------------------\n",
            "\n",
            "\n",
            "\n"
          ],
          "name": "stdout"
        }
      ]
    },
    {
      "cell_type": "code",
      "metadata": {
        "id": "GojzlLnXVFrD"
      },
      "source": [
        "moves = moves[2].all_possible_moves_for(\"w\")"
      ],
      "execution_count": 9,
      "outputs": []
    },
    {
      "cell_type": "code",
      "metadata": {
        "colab": {
          "base_uri": "https://localhost:8080/"
        },
        "id": "lUATePeRWGXd",
        "outputId": "4a5bbc9a-5667-40b8-d79c-ea2f2d87393f"
      },
      "source": [
        "moves"
      ],
      "execution_count": 10,
      "outputs": [
        {
          "output_type": "execute_result",
          "data": {
            "text/plain": [
              "[<__main__.CurrentBoard at 0x7fd0d1517a50>,\n",
              " <__main__.CurrentBoard at 0x7fd0d1517c50>,\n",
              " <__main__.CurrentBoard at 0x7fd0d15175d0>,\n",
              " <__main__.CurrentBoard at 0x7fd0d15170d0>,\n",
              " <__main__.CurrentBoard at 0x7fd0d1517890>,\n",
              " <__main__.CurrentBoard at 0x7fd0d1529a90>,\n",
              " <__main__.CurrentBoard at 0x7fd0d1529710>,\n",
              " <__main__.CurrentBoard at 0x7fd0d1529790>]"
            ]
          },
          "metadata": {
            "tags": []
          },
          "execution_count": 10
        }
      ]
    },
    {
      "cell_type": "code",
      "metadata": {
        "id": "gmimzAJtuXjA"
      },
      "source": [
        "moves = q.all_possible_moves_for(\"b\")"
      ],
      "execution_count": 11,
      "outputs": []
    },
    {
      "cell_type": "code",
      "metadata": {
        "colab": {
          "base_uri": "https://localhost:8080/"
        },
        "id": "g44-4GLKTIcB",
        "outputId": "aef19122-d565-47fc-dc41-f1ba9fae2cc5"
      },
      "source": [
        "for m in moves: \n",
        "  m.display_board()"
      ],
      "execution_count": 12,
      "outputs": [
        {
          "output_type": "stream",
          "text": [
            "------------------\n",
            "| |w| |w| |w| |w|\n",
            "------------------\n",
            "|w| |w| |w| |w| |\n",
            "------------------\n",
            "| |w| |w| |w| |w|\n",
            "------------------\n",
            "| | | | | | | | |\n",
            "------------------\n",
            "| |b| | | | | | |\n",
            "------------------\n",
            "| | |b| |b| |b| |\n",
            "------------------\n",
            "| |b| |b| |b| |b|\n",
            "------------------\n",
            "|b| |b| |b| |b| |\n",
            "------------------\n",
            "------------------\n",
            "| |w| |w| |w| |w|\n",
            "------------------\n",
            "|w| |w| |w| |w| |\n",
            "------------------\n",
            "| |w| |w| |w| |w|\n",
            "------------------\n",
            "| | | | | | | | |\n",
            "------------------\n",
            "| | | |b| | | | |\n",
            "------------------\n",
            "|b| | | |b| |b| |\n",
            "------------------\n",
            "| |b| |b| |b| |b|\n",
            "------------------\n",
            "|b| |b| |b| |b| |\n",
            "------------------\n",
            "------------------\n",
            "| |w| |w| |w| |w|\n",
            "------------------\n",
            "|w| |w| |w| |w| |\n",
            "------------------\n",
            "| |w| |w| |w| |w|\n",
            "------------------\n",
            "| | | | | | | | |\n",
            "------------------\n",
            "| |b| | | | | | |\n",
            "------------------\n",
            "|b| | | |b| |b| |\n",
            "------------------\n",
            "| |b| |b| |b| |b|\n",
            "------------------\n",
            "|b| |b| |b| |b| |\n",
            "------------------\n",
            "------------------\n",
            "| |w| |w| |w| |w|\n",
            "------------------\n",
            "|w| |w| |w| |w| |\n",
            "------------------\n",
            "| |w| |w| |w| |w|\n",
            "------------------\n",
            "| | | | | | | | |\n",
            "------------------\n",
            "| | | | | |b| | |\n",
            "------------------\n",
            "|b| |b| | | |b| |\n",
            "------------------\n",
            "| |b| |b| |b| |b|\n",
            "------------------\n",
            "|b| |b| |b| |b| |\n",
            "------------------\n",
            "------------------\n",
            "| |w| |w| |w| |w|\n",
            "------------------\n",
            "|w| |w| |w| |w| |\n",
            "------------------\n",
            "| |w| |w| |w| |w|\n",
            "------------------\n",
            "| | | | | | | | |\n",
            "------------------\n",
            "| | | |b| | | | |\n",
            "------------------\n",
            "|b| |b| | | |b| |\n",
            "------------------\n",
            "| |b| |b| |b| |b|\n",
            "------------------\n",
            "|b| |b| |b| |b| |\n",
            "------------------\n",
            "------------------\n",
            "| |w| |w| |w| |w|\n",
            "------------------\n",
            "|w| |w| |w| |w| |\n",
            "------------------\n",
            "| |w| |w| |w| |w|\n",
            "------------------\n",
            "| | | | | | | | |\n",
            "------------------\n",
            "| | | | | | | |b|\n",
            "------------------\n",
            "|b| |b| |b| | | |\n",
            "------------------\n",
            "| |b| |b| |b| |b|\n",
            "------------------\n",
            "|b| |b| |b| |b| |\n",
            "------------------\n",
            "------------------\n",
            "| |w| |w| |w| |w|\n",
            "------------------\n",
            "|w| |w| |w| |w| |\n",
            "------------------\n",
            "| |w| |w| |w| |w|\n",
            "------------------\n",
            "| | | | | | | | |\n",
            "------------------\n",
            "| | | | | |b| | |\n",
            "------------------\n",
            "|b| |b| |b| | | |\n",
            "------------------\n",
            "| |b| |b| |b| |b|\n",
            "------------------\n",
            "|b| |b| |b| |b| |\n",
            "------------------\n"
          ],
          "name": "stdout"
        }
      ]
    },
    {
      "cell_type": "code",
      "metadata": {
        "colab": {
          "base_uri": "https://localhost:8080/"
        },
        "id": "h_K_xJ5uItjS",
        "outputId": "4ae9fb67-6c73-4504-c1a4-ae427753a714"
      },
      "source": [
        "q.display_board()"
      ],
      "execution_count": 13,
      "outputs": [
        {
          "output_type": "stream",
          "text": [
            "------------------\n",
            "| |w| |w| |w| |w|\n",
            "------------------\n",
            "|w| |w| |w| |w| |\n",
            "------------------\n",
            "| |w| |w| |w| |w|\n",
            "------------------\n",
            "| | | | | | | | |\n",
            "------------------\n",
            "| | | | | | | | |\n",
            "------------------\n",
            "|b| |b| |b| |b| |\n",
            "------------------\n",
            "| |b| |b| |b| |b|\n",
            "------------------\n",
            "|b| |b| |b| |b| |\n",
            "------------------\n"
          ],
          "name": "stdout"
        }
      ]
    },
    {
      "cell_type": "code",
      "metadata": {
        "id": "xE6lxuLLEw6o"
      },
      "source": [
        "setup_of_board = ['wwww','wwww','wwww','    ','    ','bbbb','bbbb','bbbb']"
      ],
      "execution_count": null,
      "outputs": []
    },
    {
      "cell_type": "code",
      "metadata": {
        "id": "rnjOY7siKYb1",
        "colab": {
          "base_uri": "https://localhost:8080/",
          "height": 35
        },
        "outputId": "22a5be93-edfb-4fee-8ccf-accf4c3178ba"
      },
      "source": [
        "setup_of_board[3][3]\n"
      ],
      "execution_count": null,
      "outputs": [
        {
          "output_type": "execute_result",
          "data": {
            "application/vnd.google.colaboratory.intrinsic+json": {
              "type": "string"
            },
            "text/plain": [
              "' '"
            ]
          },
          "metadata": {
            "tags": []
          },
          "execution_count": 28
        }
      ]
    },
    {
      "cell_type": "code",
      "metadata": {
        "colab": {
          "base_uri": "https://localhost:8080/"
        },
        "id": "ZKsmWus-KlKn",
        "outputId": "4b4a252f-fa03-4823-aa83-6dfe1b387f37"
      },
      "source": [
        "q.display_board()"
      ],
      "execution_count": null,
      "outputs": [
        {
          "output_type": "stream",
          "text": [
            "------------------\n",
            "| |w| |w| |w| |w|\n",
            "------------------\n",
            "|w| |w| |w| |w| |\n",
            "------------------\n",
            "| |w| |w| |w| |w|\n",
            "------------------\n",
            "| | | | | | | | |\n",
            "------------------\n",
            "| | | | | | | | |\n",
            "------------------\n",
            "|b| |b| |b| |b| |\n",
            "------------------\n",
            "| |b| |b| |b| |b|\n",
            "------------------\n",
            "|b| |b| |b| |b| |\n",
            "------------------\n"
          ],
          "name": "stdout"
        }
      ]
    },
    {
      "cell_type": "markdown",
      "metadata": {
        "id": "6VadHkuoADO1"
      },
      "source": [
        ""
      ]
    },
    {
      "cell_type": "code",
      "metadata": {
        "id": "sWJ_8vAEIGl9"
      },
      "source": [
        "class Search_Tree_Node:\n",
        "  def __init__(self, game , playing_char, ply = 0):\n",
        "    self.children =[]\n",
        "    self.ply_depth = ply\n",
        "    self.value_is_assigned = False\n",
        "    self.value = 999\n",
        "    self.board_for_node = game\n",
        "    self.playing = playing_char\n",
        "    if self.board_for_node.state == \"U\":\n",
        "      self.generate_children()\n",
        "    else:\n",
        "      if self.board_for_node.state == \"D\":\n",
        "        self.value = 0\n",
        "      else: \n",
        "        if (self.ply_depth % 2) ==0:\n",
        "          self.value = -1\n",
        "        else:\n",
        "          self.value = 1\n",
        "      self.value_is_assigned = True\n",
        "      \n",
        "\n",
        "\n",
        "\n",
        "  def max_min_value(self):\n",
        "    # if no value is assigned we will assign the max(or min) of the value of the children\n",
        "\n",
        "    if  self.value_is_assigned:\n",
        "        return self.value\n",
        "\n",
        "    else: \n",
        "      self.children = sorted(self.children, key= lambda x: x.max_min_value() )\n",
        "\n",
        "      if (self.ply_depth % 2) == 0:\n",
        "        self.value = self.children[-1].value\n",
        "      else:\n",
        "        self.value = self.children[0].value\n",
        "    return self.value\n",
        "\n",
        "\n",
        "  def other_char(self,current):\n",
        "    if current == \"w\":\n",
        "      return \"b\"\n",
        "    if current == \"b\":\n",
        "      return \"w\"\n",
        "    return \" \"\n",
        "\n",
        "  def generate_children(self):\n",
        "    for next_move in self.board_for_node.all_possible_moves_for(self.playing):\n",
        "      self.children.append(Search_Tree_Node(next_move, self.other_char(self.playing), self.ply_depth + 1))\n",
        "\n"
      ],
      "execution_count": 14,
      "outputs": []
    },
    {
      "cell_type": "code",
      "metadata": {
        "id": "Jz8KAmWPIToP"
      },
      "source": [
        "s = Search_Tree_Node(CurrentBoard(),\"w\")"
      ],
      "execution_count": 15,
      "outputs": []
    },
    {
      "cell_type": "code",
      "metadata": {
        "colab": {
          "base_uri": "https://localhost:8080/"
        },
        "id": "W1gASoCcHuY0",
        "outputId": "40df5133-cf8d-41ac-e3d1-30eb562680b6"
      },
      "source": [
        "s.max_min_value()"
      ],
      "execution_count": 16,
      "outputs": [
        {
          "output_type": "execute_result",
          "data": {
            "text/plain": [
              "-1"
            ]
          },
          "metadata": {
            "tags": []
          },
          "execution_count": 16
        }
      ]
    },
    {
      "cell_type": "code",
      "metadata": {
        "id": "j6bcBazwDJab"
      },
      "source": [
        "def run_game():\n",
        "  current_game = CurrentBoard()\n",
        "  #  Ask player do they want to move first?\n",
        "  choice = input(\"Do you want to go first y/n?\")\n",
        "  player_going_first = (choice == \"y\") or (choice == \"Y\")\n",
        "\n",
        "  player_this_turn = player_going_first\n",
        "\n",
        "\n",
        "  #  Do you want X or O?\n",
        "\n",
        "  choice = input(\"Do you want to play as white  y/n?\")\n",
        "  player_playing_X = (choice == \"y\") or (choice == \"Y\")\n",
        "  if player_playing_X:\n",
        "    player_playing = \"w\"\n",
        "    computer_playing = \"b\"\n",
        "  else:\n",
        "    player_playing = \"b\"\n",
        "    computer_playing = \"w\"\n",
        "  #  Loop\n",
        "  for i in range(9):\n",
        "\n",
        "   # Display Current board (for player input)  \n",
        "    current_game.display_board(game_display = True)\n",
        "    if player_this_turn:\n",
        "      print(\" \")\n",
        "      player_move = input(\"Choose your move --\")\n",
        "      index_of_player_move = int(player_move)\n",
        "\n",
        "\n",
        "      new_board_string = current_game.board[:index_of_player_move] + player_playing + current_game.board[index_of_player_move+1:]\n",
        "      current_game= CurrentBoard(new_board_string)\n",
        "    else:\n",
        "      print(\" \")\n",
        "      st = Search_Tree_Node(current_game,computer_playing)\n",
        "      print(st.max_min_value())\n",
        "      current_game =  st.children[-1].board_for_node\n",
        "\n",
        "    player_this_turn = not  player_this_turn\n",
        "\n",
        "    if current_game.state !=\"U\":\n",
        "      if current_game.state == \"D\":\n",
        "        print(\"I cant believe it you drew with me!!!\")\n",
        "      elif computer_playing == current_game.state:\n",
        "        print(\" I win too easy !!!\")\n",
        "      else:\n",
        "        print(\"The world is coming to an end!!!\")\n",
        "      current_game.display_board()\n",
        "      break\n",
        "   \n",
        "  \n"
      ],
      "execution_count": 19,
      "outputs": []
    },
    {
      "cell_type": "code",
      "metadata": {
        "colab": {
          "base_uri": "https://localhost:8080/",
          "height": 313
        },
        "id": "wrvBe_GVQOsH",
        "outputId": "8ed8aba8-714f-49df-a410-9961ad88479a"
      },
      "source": [
        "run_game()"
      ],
      "execution_count": 18,
      "outputs": [
        {
          "output_type": "stream",
          "text": [
            "Do you want to go first y/n?y\n",
            "Do you want to play X's  y/n?y\n"
          ],
          "name": "stdout"
        },
        {
          "output_type": "error",
          "ename": "TypeError",
          "evalue": "ignored",
          "traceback": [
            "\u001b[0;31m---------------------------------------------------------------------------\u001b[0m",
            "\u001b[0;31mTypeError\u001b[0m                                 Traceback (most recent call last)",
            "\u001b[0;32m<ipython-input-18-901c44b21ed3>\u001b[0m in \u001b[0;36m<module>\u001b[0;34m()\u001b[0m\n\u001b[0;32m----> 1\u001b[0;31m \u001b[0mrun_game\u001b[0m\u001b[0;34m(\u001b[0m\u001b[0;34m)\u001b[0m\u001b[0;34m\u001b[0m\u001b[0;34m\u001b[0m\u001b[0m\n\u001b[0m",
            "\u001b[0;32m<ipython-input-17-ee4b574b1f3a>\u001b[0m in \u001b[0;36mrun_game\u001b[0;34m()\u001b[0m\n\u001b[1;32m     22\u001b[0m \u001b[0;34m\u001b[0m\u001b[0m\n\u001b[1;32m     23\u001b[0m    \u001b[0;31m# Display Current board (for player input)\u001b[0m\u001b[0;34m\u001b[0m\u001b[0;34m\u001b[0m\u001b[0;34m\u001b[0m\u001b[0m\n\u001b[0;32m---> 24\u001b[0;31m     \u001b[0mcurrent_game\u001b[0m\u001b[0;34m.\u001b[0m\u001b[0mdisplay_board\u001b[0m\u001b[0;34m(\u001b[0m\u001b[0mgame_display\u001b[0m \u001b[0;34m=\u001b[0m \u001b[0;32mTrue\u001b[0m\u001b[0;34m)\u001b[0m\u001b[0;34m\u001b[0m\u001b[0;34m\u001b[0m\u001b[0m\n\u001b[0m\u001b[1;32m     25\u001b[0m     \u001b[0;32mif\u001b[0m \u001b[0mplayer_this_turn\u001b[0m\u001b[0;34m:\u001b[0m\u001b[0;34m\u001b[0m\u001b[0;34m\u001b[0m\u001b[0m\n\u001b[1;32m     26\u001b[0m       \u001b[0mprint\u001b[0m\u001b[0;34m(\u001b[0m\u001b[0;34m\" \"\u001b[0m\u001b[0;34m)\u001b[0m\u001b[0;34m\u001b[0m\u001b[0;34m\u001b[0m\u001b[0m\n",
            "\u001b[0;31mTypeError\u001b[0m: display_board() got an unexpected keyword argument 'game_display'"
          ]
        }
      ]
    }
  ]
}